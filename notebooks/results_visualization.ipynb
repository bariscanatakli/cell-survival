{
 "cells": [
  {
   "cell_type": "markdown",
   "metadata": {},
   "source": [
    "# Results Visualization\n",
    "\n",
    "This notebook provides visualizations of the results from the cell survival simulation, including heatmaps of cell movements and analysis of decision-making processes."
   ]
  },
  {
   "cell_type": "code",
   "execution_count": null,
   "metadata": {
    "collapsed": false
   },
   "outputs": [],
   "source": [
    "import numpy as np\n",
    "import matplotlib.pyplot as plt\n",
    "import seaborn as sns\n",
    "\n",
    "# Set the style for seaborn\n",
    "sns.set(style='whitegrid')\n",
    "\n",
    "# Function to plot heatmap of cell movements\n",
    "def plot_heatmap(data, title='Cell Movement Heatmap'):\n",
    "    plt.figure(figsize=(10, 8))\n",
    "    sns.heatmap(data, cmap='YlGnBu', annot=False)\n",
    "    plt.title(title)\n",
    "    plt.xlabel('X Position')\n",
    "    plt.ylabel('Y Position')\n",
    "    plt.show()\n",
    "\n",
    "# Example data for heatmap (replace with actual data)\n",
    "heatmap_data = np.random.rand(10, 10)  # Placeholder for heatmap data\n",
    "\n",
    "# Plot the heatmap\n",
    "plot_heatmap(heatmap_data)\n",
    "\n",
    "# Function to visualize decision-making\n",
    "def plot_decision_making(steps, decisions):\n",
    "    plt.figure(figsize=(12, 6))\n",
    "    plt.plot(steps, decisions, marker='o')\n",
    "    plt.title('Decision Making Over Time')\n",
    "    plt.xlabel('Steps')\n",
    "    plt.ylabel('Decision')\n",
    "    plt.grid(True)\n",
    "    plt.show()\n",
    "\n",
    "# Example data for decision making (replace with actual data)\n",
    "steps = np.arange(1, 101)\n",
    "decisions = np.random.choice(['Move', 'Eat', 'Reproduce'], size=100)  # Placeholder for decisions\n",
    "\n",
    "# Plot decision making\n",
    "plot_decision_making(steps, decisions)\n"
   ]
  }
 ],
 "metadata": {
  "kernelspec": {
   "display_name": "Python 3",
   "language": "python",
   "name": "python3"
  },
  "language_info": {
   "codemirror_mode": {
    "name": "ipython",
    "version": 3
   },
   "file_extension": ".py",
   "mimetype": "text/x-python",
   "name": "python",
   "nbconvert_exporter": "python",
   "pygments_lexer": "ipython3",
   "version": "3.8.5"
  }
 },
 "nbformat": 4,
 "nbformat_minor": 4
}